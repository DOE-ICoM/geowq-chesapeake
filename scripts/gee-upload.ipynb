{
  "nbformat": 4,
  "nbformat_minor": 0,
  "metadata": {
    "colab": {
      "provenance": [],
      "collapsed_sections": []
    },
    "kernelspec": {
      "name": "python3",
      "display_name": "Python 3"
    },
    "language_info": {
      "name": "python"
    }
  },
  "cells": [
    {
      "cell_type": "code",
      "source": [
        "%%capture\n",
        "!pip3 install tensorflow_decision_forests --upgrade"
      ],
      "metadata": {
        "id": "Mb_x3yhsf8KI"
      },
      "execution_count": 1,
      "outputs": []
    },
    {
      "cell_type": "markdown",
      "source": [
        "## Load model"
      ],
      "metadata": {
        "id": "U5DO7by7pmcV"
      }
    },
    {
      "cell_type": "code",
      "source": [
        "from google.colab import drive\n",
        "drive.mount('/content/drive')"
      ],
      "metadata": {
        "id": "ZUKKSGQAf7BX",
        "colab": {
          "base_uri": "https://localhost:8080/"
        },
        "outputId": "6be6f895-d3fa-4882-cb50-3972eafcd75f"
      },
      "execution_count": 2,
      "outputs": [
        {
          "output_type": "stream",
          "name": "stdout",
          "text": [
            "Mounted at /content/drive\n"
          ]
        }
      ]
    },
    {
      "cell_type": "code",
      "source": [
        "import tensorflow_decision_forests as tfdf\n",
        "import tensorflow as tf\n",
        "model = tf.keras.models.load_model(\"drive/My Drive/rf_model\")"
      ],
      "metadata": {
        "id": "CTEbcMfUl-y-"
      },
      "execution_count": 3,
      "outputs": []
    },
    {
      "cell_type": "markdown",
      "source": [
        "## Authenticate to GCP\n",
        "https://colab.research.google.com/github/indranildchandra/ML101-Codelabs/blob/master/src/Colaboratory_Dataset_Interactions_Examples.ipynb"
      ],
      "metadata": {
        "id": "cGWIX_SFpra7"
      }
    },
    {
      "cell_type": "code",
      "source": [
        "from google.colab import auth \n",
        "auth.authenticate_user()"
      ],
      "metadata": {
        "id": "fagp7DbCoXHY"
      },
      "execution_count": 6,
      "outputs": []
    },
    {
      "cell_type": "code",
      "source": [
        "!gcloud config set project jstagee"
      ],
      "metadata": {
        "colab": {
          "base_uri": "https://localhost:8080/"
        },
        "id": "1yS0Kf0Folq4",
        "outputId": "6fe70703-e7e9-48bd-a5ec-042fc30397be"
      },
      "execution_count": 8,
      "outputs": [
        {
          "output_type": "stream",
          "name": "stdout",
          "text": [
            "Updated property [core/project].\n"
          ]
        }
      ]
    },
    {
      "cell_type": "markdown",
      "source": [
        "## Push model"
      ],
      "metadata": {
        "id": "adD-hJRXpvXM"
      }
    },
    {
      "cell_type": "code",
      "source": [
        "!gsutil cp -r \"drive/My Drive/rf_model\" gs://rabpro-gee-uploads/rf_model"
      ],
      "metadata": {
        "colab": {
          "base_uri": "https://localhost:8080/"
        },
        "id": "MiE9XSXRqOiV",
        "outputId": "84ae320d-3f76-43d0-cd8e-5e508e7b8da8"
      },
      "execution_count": 12,
      "outputs": [
        {
          "output_type": "stream",
          "name": "stdout",
          "text": [
            "Copying file://drive/My Drive/rf_model/saved_model.pb [Content-Type=application/octet-stream]...\n",
            "Copying file://drive/My Drive/rf_model/keras_metadata.pb [Content-Type=application/octet-stream]...\n",
            "Copying file://drive/My Drive/rf_model/variables/variables.data-00000-of-00001 [Content-Type=application/octet-stream]...\n",
            "Copying file://drive/My Drive/rf_model/variables/variables.index [Content-Type=application/octet-stream]...\n",
            "- [4 files][107.6 KiB/107.6 KiB]                                                \n",
            "==> NOTE: You are performing a sequence of gsutil operations that may\n",
            "run significantly faster if you instead use gsutil -m cp ... Please\n",
            "see the -m section under \"gsutil help options\" for further information\n",
            "about when gsutil -m can be advantageous.\n",
            "\n",
            "Copying file://drive/My Drive/rf_model/assets/c32d12e55478417drandom_forest_header.pb [Content-Type=application/octet-stream]...\n",
            "Copying file://drive/My Drive/rf_model/assets/c32d12e55478417dheader.pb [Content-Type=application/octet-stream]...\n",
            "Copying file://drive/My Drive/rf_model/assets/c32d12e55478417ddone [Content-Type=application/octet-stream]...\n",
            "Copying file://drive/My Drive/rf_model/assets/c32d12e55478417ddata_spec.pb [Content-Type=application/octet-stream]...\n",
            "Copying file://drive/My Drive/rf_model/assets/c32d12e55478417dnodes-00000-of-00004 [Content-Type=application/octet-stream]...\n",
            "Copying file://drive/My Drive/rf_model/assets/c32d12e55478417dnodes-00001-of-00004 [Content-Type=application/octet-stream]...\n",
            "Copying file://drive/My Drive/rf_model/assets/c32d12e55478417dnodes-00002-of-00004 [Content-Type=application/octet-stream]...\n",
            "Copying file://drive/My Drive/rf_model/assets/c32d12e55478417dnodes-00003-of-00004 [Content-Type=application/octet-stream]...\n",
            "/\n",
            "Operation completed over 12 objects/164.7 MiB.                                   \n"
          ]
        }
      ]
    }
  ]
}